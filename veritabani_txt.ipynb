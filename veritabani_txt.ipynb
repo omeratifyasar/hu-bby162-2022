{
  "nbformat": 4,
  "nbformat_minor": 0,
  "metadata": {
    "colab": {
      "name": "veritabani.txt",
      "provenance": [],
      "collapsed_sections": [],
      "authorship_tag": "ABX9TyN/arvaErjYGqJa2QMRMazI",
      "include_colab_link": true
    },
    "kernelspec": {
      "name": "python3",
      "display_name": "Python 3"
    },
    "language_info": {
      "name": "python"
    }
  },
  "cells": [
    {
      "cell_type": "markdown",
      "metadata": {
        "id": "view-in-github",
        "colab_type": "text"
      },
      "source": [
        "<a href=\"https://colab.research.google.com/github/omeratifyasar/hu-bby162-2022/blob/main/veritabani_txt.ipynb\" target=\"_parent\"><img src=\"https://colab.research.google.com/assets/colab-badge.svg\" alt=\"Open In Colab\"/></a>"
      ]
    },
    {
      "cell_type": "markdown",
      "source": [
        "  Kukla | Ahmet ÜMİT | 2019 | YBY yayınevi\n",
        "\n",
        "  Don Kişot | Cervantes | 2015 | Evresnsel İletişim Yayınları\n",
        "\n",
        "  Milena'ya Mektuplar | Franz Kafka | 2018 |Zekaevi Yayınevi\n",
        "\n",
        " Vırata Ya Da Ölümsüz Bir Kardeşin Gözleri | Stefan Zweıg | 2018 | Aperatifkitap \n",
        "\n",
        " Sımon Iff | Aleister Crowley | 2017 | Altıkırkbey Yayın\n",
        "\n",
        " Sineklerin Tanrısı | William Golding | 2001 | İş Bankası Yayınları \n"
      ],
      "metadata": {
        "id": "J3X75JuQ2Mn3"
      }
    }
  ]
}