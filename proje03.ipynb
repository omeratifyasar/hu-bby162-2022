{
  "nbformat": 4,
  "nbformat_minor": 0,
  "metadata": {
    "colab": {
      "name": "proje03.ipynb",
      "provenance": [],
      "authorship_tag": "ABX9TyOAjsiI0gzcQM7RpmDhgXMs",
      "include_colab_link": true
    },
    "kernelspec": {
      "name": "python3",
      "display_name": "Python 3"
    },
    "language_info": {
      "name": "python"
    }
  },
  "cells": [
    {
      "cell_type": "markdown",
      "metadata": {
        "id": "view-in-github",
        "colab_type": "text"
      },
      "source": [
        "<a href=\"https://colab.research.google.com/github/omeratifyasar/hu-bby162-2022/blob/main/proje03.ipynb\" target=\"_parent\"><img src=\"https://colab.research.google.com/assets/colab-badge.svg\" alt=\"Open In Colab\"/></a>"
      ]
    },
    {
      "cell_type": "code",
      "execution_count": null,
      "metadata": {
        "colab": {
          "base_uri": "https://localhost:8080/"
        },
        "id": "2KQiCNvUqQxs",
        "outputId": "5d58536b-158a-40a7-b051-304dd464c3c6"
      },
      "outputs": [
        {
          "output_type": "stream",
          "name": "stdout",
          "text": [
            "################################################################################\n",
            "############################## <<MİNİ TESTE HOŞGELDİN :) >> #############################\n",
            "################################################################################\n",
            "Cevaplarınızı d ya da y olarak giriniz.\n",
            "Soru 1: Türkiye'nin başkneti Ankaradır\n",
            "d/y:y\n",
            "bilemediniz!\n",
            "Soru 2: TÜİK tarafından açıklanan vatandaş sayımız 84 milyondur.\n",
            "d/y:y\n",
            "bilemediniz!\n",
            "Soru 3: Ankara'da deniz vardır\n",
            "d/y:y\n",
            "bildiniz!\n",
            "Soru 4: Hacettepe Üniversitesi 1967 ylında kurulmuştur\n",
            "d/y:y\n",
            "bilemediniz!\n",
            "Soru 5: Dünyada 6 tane okyanus vardır\n",
            "d/y:y\n",
            "bildiniz!\n",
            "Toplam puanınız:40\n",
            "minitesti geçemediniz...!\n",
            "minitesti tekrar girmek istiyor musunuz? [e/h]: e\n",
            "Soru 1: Türkiye'nin başkneti Ankaradır\n",
            "d/y:d\n",
            "bildiniz!\n",
            "Soru 2: TÜİK tarafından açıklanan vatandaş sayımız 84 milyondur.\n",
            "d/y:d\n",
            "bildiniz!\n",
            "Soru 3: Ankara'da deniz vardır\n",
            "d/y:y\n",
            "bildiniz!\n",
            "Soru 4: Hacettepe Üniversitesi 1967 ylında kurulmuştur\n",
            "d/y:d\n",
            "bildiniz!\n",
            "Soru 5: Dünyada 6 tane okyanus vardır\n",
            "d/y:y\n",
            "bildiniz!\n",
            "Toplam puanınız:100\n",
            "Tebrikler, minitesti geçtiniz...!\n"
          ]
        }
      ],
      "source": [
        "#mini test\n",
        "print(\"#\"*80)\n",
        "print(\"#\"*30 + \" <<MİNİ TESTE HOŞGELDİN :) >> \"+\"#\"*29)\n",
        "print(\"#\"*80 )\n",
        "print(\"Cevaplarınızı d ya da y olarak giriniz.\")\n",
        "sorular = [\"Türkiye'nin başkneti Ankaradır\", \"TÜİK tarafından açıklanan vatandaş sayımız 84 milyondur.\", \"Ankara'da deniz vardır\", \"Hacettepe Üniversitesi 1967 ylında kurulmuştur\",\"Dünyada 6 tane okyanus vardır\"]\n",
        "cevaplar = [\"d\", \"d\", \"y\", \"d\", \"y\"]\n",
        "\n",
        "\n",
        "def minitestCalistir():\n",
        "  soruNo = 0\n",
        "  cevapNo = 0\n",
        "  puan = 0\n",
        "  for soru in sorular:\n",
        "    soruNo +=1\n",
        "    print(\"Soru \"+str(soruNo)+\": \"+ soru)\n",
        "    cevap = input(\"d/y:\")\n",
        "    if cevap == cevaplar[cevapNo]:\n",
        "      print(\"bildiniz!\")\n",
        "      puan +=1\n",
        "    else:\n",
        "      print(\"bilemediniz!\")\n",
        "    cevapNo +=1\n",
        "  toplampuan = int((puan/soruNo)*100)\n",
        "  print(\"Toplam puanınız:\"+ str(toplampuan))\n",
        "  if toplampuan >= 60:\n",
        "    print(\"Tebrikler, minitesti geçtiniz...!\")\n",
        "  else:\n",
        "    print(\"minitesti geçemediniz...!\")\n",
        "    tekrar = input(\"minitesti tekrar girmek istiyor musunuz? [e/h]: \")\n",
        "    if tekrar == \"e\":\n",
        "      minitestCalistir()\n",
        "    else:\n",
        "      print(\"minitest uygulaması sonlandırıldı..!!\")\n",
        "\n",
        "minitestCalistir()      \n",
        "\n",
        "\n",
        "\n",
        "\n"
      ]
    }
  ]
}