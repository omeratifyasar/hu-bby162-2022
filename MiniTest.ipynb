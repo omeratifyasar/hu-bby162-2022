{
  "nbformat": 4,
  "nbformat_minor": 0,
  "metadata": {
    "colab": {
      "name": "MiniTest.ipynb",
      "provenance": [],
      "authorship_tag": "ABX9TyO26PR9gTiPR9PmdT9n/iAR",
      "include_colab_link": true
    },
    "kernelspec": {
      "name": "python3",
      "display_name": "Python 3"
    },
    "language_info": {
      "name": "python"
    }
  },
  "cells": [
    {
      "cell_type": "markdown",
      "metadata": {
        "id": "view-in-github",
        "colab_type": "text"
      },
      "source": [
        "<a href=\"https://colab.research.google.com/github/omeratifyasar/hu-bby162-2022/blob/main/MiniTest.ipynb\" target=\"_parent\"><img src=\"https://colab.research.google.com/assets/colab-badge.svg\" alt=\"Open In Colab\"/></a>"
      ]
    },
    {
      "cell_type": "code",
      "execution_count": null,
      "metadata": {
        "colab": {
          "base_uri": "https://localhost:8080/"
        },
        "id": "UBIkO-Cn8BUg",
        "outputId": "9e18f5b5-2bcc-4d9d-e06f-f96b450ea3c6"
      },
      "outputs": [
        {
          "output_type": "stream",
          "name": "stdout",
          "text": [
            "Mini teste hoşgeldiniz...\n",
            "Cevaplarınızı d ya da y olarak giriniz.\n",
            "1.24>21\n",
            "Cevabınız: d\n",
            "Doğru bildiniz\n",
            "Cevabınız: y\n",
            "Doğru bildiniz\n",
            "Cevabınız: y\n",
            "Doğru bildiniz\n",
            "Cevabınız: d\n",
            "Doğru bildiniz\n",
            "Cevabınız: y\n",
            "Doğru bildiniz\n"
          ]
        }
      ],
      "source": [
        "#mini test\n",
        "print(\"Mini teste hoşgeldiniz...\")\n",
        "print(\"Cevaplarınızı d ya da y olarak giriniz.\")\n",
        "\n",
        "sorular =[\"24>21\", \"360<359\", \"2+2=5\", \"55-11=44\", \"1111>1112\"]\n",
        "cevaplar = [\"d\", \"y\", \"y\", \"d\", \"y\"]\n",
        "\n",
        "print(\"1.\" + sorular[0])\n",
        "cevap = input(\"Cevabınız: \")\n",
        "if cevap == cevaplar[0]:\n",
        "  print(\"Doğru bildiniz\")\n",
        "else:\n",
        "  print(\"Yanlış cevap\")\n",
        "\n",
        "  print(\"2.\" + sorular[1])\n",
        "cevap = input(\"Cevabınız: \")\n",
        "if cevap == cevaplar[1]:\n",
        "  print(\"Doğru bildiniz\")\n",
        "else:\n",
        "  print(\"Yanlış cevap\")\n",
        "\n",
        "  print(\"3.\" + sorular[2])\n",
        "cevap = input(\"Cevabınız: \")\n",
        "if cevap == cevaplar[2]:\n",
        "  print(\"Doğru bildiniz\")\n",
        "else:\n",
        "  print(\"Yanlış cevsp\")\n",
        "\n",
        "  print(\"4.\" + sorular[3])\n",
        "cevap = input(\"Cevabınız: \")\n",
        "if cevap == cevaplar[3]:\n",
        "  print(\"Doğru bildiniz\")\n",
        "else:\n",
        "  print(\"Yanlış cevap\")\n",
        "\n",
        "  print(\"5.\" + sorular[4])\n",
        "cevap = input(\"Cevabınız: \")\n",
        "if cevap == cevaplar[4]:\n",
        "  print(\"Doğru bildiniz\")\n",
        "else:\n",
        "  print(\"Yanlış cevap\")"
      ]
    },
    {
      "cell_type": "code",
      "source": [
        ""
      ],
      "metadata": {
        "id": "IJczcshmnhfI"
      },
      "execution_count": null,
      "outputs": []
    }
  ]
}