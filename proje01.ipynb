{
  "nbformat": 4,
  "nbformat_minor": 0,
  "metadata": {
    "colab": {
      "name": " proje01.ipynb",
      "provenance": [],
      "authorship_tag": "ABX9TyMsFwFhQKbPKZkuaX7RZ2N5",
      "include_colab_link": true
    },
    "kernelspec": {
      "name": "python3",
      "display_name": "Python 3"
    },
    "language_info": {
      "name": "python"
    }
  },
  "cells": [
    {
      "cell_type": "markdown",
      "metadata": {
        "id": "view-in-github",
        "colab_type": "text"
      },
      "source": [
        "<a href=\"https://colab.research.google.com/github/omeratifyasar/hu-bby162-2022/blob/main/proje01.ipynb\" target=\"_parent\"><img src=\"https://colab.research.google.com/assets/colab-badge.svg\" alt=\"Open In Colab\"/></a>"
      ]
    },
    {
      "cell_type": "code",
      "execution_count": null,
      "metadata": {
        "colab": {
          "base_uri": "https://localhost:8080/"
        },
        "id": "s2jBW2AoSnUA",
        "outputId": "116d9a48-c1d5-4fc6-e14e-c165035d6f4c"
      },
      "outputs": [
        {
          "output_type": "stream",
          "name": "stdout",
          "text": [
            "Rakam girişi yapınız! dsfdsgfs\n",
            "dsfdsgfs\n"
          ]
        }
      ],
      "source": [
        "girdi = input(\"Rakam girişi yapınız! \")\n",
        "kontrol = girdi.isalnum()\n",
        "if kontrol:\n",
        "  print(girdi)\n",
        "else:\n",
        "  print(\"Rakam girişi yapınız! \")  "
      ]
    }
  ]
}