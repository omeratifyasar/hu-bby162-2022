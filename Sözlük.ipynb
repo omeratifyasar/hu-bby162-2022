{
  "nbformat": 4,
  "nbformat_minor": 0,
  "metadata": {
    "colab": {
      "name": "Sözlük.ipynb",
      "provenance": [],
      "authorship_tag": "ABX9TyMT2ly1qjR788ObSs83XrHb",
      "include_colab_link": true
    },
    "kernelspec": {
      "name": "python3",
      "display_name": "Python 3"
    },
    "language_info": {
      "name": "python"
    }
  },
  "cells": [
    {
      "cell_type": "markdown",
      "metadata": {
        "id": "view-in-github",
        "colab_type": "text"
      },
      "source": [
        "<a href=\"https://colab.research.google.com/github/omeratifyasar/hu-bby162-2022/blob/main/S%C3%B6zl%C3%BCk.ipynb\" target=\"_parent\"><img src=\"https://colab.research.google.com/assets/colab-badge.svg\" alt=\"Open In Colab\"/></a>"
      ]
    },
    {
      "cell_type": "code",
      "execution_count": null,
      "metadata": {
        "colab": {
          "base_uri": "https://localhost:8080/"
        },
        "id": "A_nVB_8yUpIn",
        "outputId": "66fdf410-e38e-4e75-9047-211024712289"
      },
      "outputs": [
        {
          "output_type": "stream",
          "name": "stdout",
          "text": [
            "{'televizyon': 'tv', 'bilgisayar': 'pc'}\n",
            "kelimeyi giriniz:bilgisayar\n",
            "bilgisayar\n",
            "sözlükte bu kelime var mı? - True\n"
          ]
        }
      ],
      "source": [
        "#sözlükoluşturuluyor\n",
        "sözlük = {\"televizyon\":\"tv\",\"bilgisayar\":\"pc\"}\n",
        "print(sözlük)\n",
        "arama = input(\"kelimeyi giriniz:\")\n",
        "arama = arama.lower()\n",
        "print(arama)\n",
        "kontrol = arama in sözlük.keys()\n",
        "print(\"sözlükte bu kelime var mı? - \" + str(kontrol))\n",
        " "
      ]
    }
  ]
}