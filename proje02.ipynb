{
  "nbformat": 4,
  "nbformat_minor": 0,
  "metadata": {
    "colab": {
      "name": "proje02.ipynb",
      "provenance": [],
      "authorship_tag": "ABX9TyP7RePOBaZbKKbTPvY1SueA",
      "include_colab_link": true
    },
    "kernelspec": {
      "name": "python3",
      "display_name": "Python 3"
    },
    "language_info": {
      "name": "python"
    }
  },
  "cells": [
    {
      "cell_type": "markdown",
      "metadata": {
        "id": "view-in-github",
        "colab_type": "text"
      },
      "source": [
        "<a href=\"https://colab.research.google.com/github/omeratifyasar/hu-bby162-2022/blob/main/proje02.ipynb\" target=\"_parent\"><img src=\"https://colab.research.google.com/assets/colab-badge.svg\" alt=\"Open In Colab\"/></a>"
      ]
    },
    {
      "cell_type": "code",
      "execution_count": null,
      "metadata": {
        "colab": {
          "base_uri": "https://localhost:8080/"
        },
        "id": "hvBLDM8hiL7u",
        "outputId": "b6a54021-87d8-45a2-e7f8-55a4a6ae8509"
      },
      "outputs": [
        {
          "output_type": "stream",
          "name": "stdout",
          "text": [
            "################################################################################\n",
            "############################## KELIME TAHMIN OYUNU #############################\n",
            "################################################################################\n"
          ]
        }
      ],
      "source": [
        "from random import choice\n",
        "\n",
        "while True: \n",
        "    print(\"#\"*80)\n",
        "    print(\"#\"*30 + \" KELIME TAHMIN OYUNU \"+\"#\"*29)\n",
        "    print(\"#\"*80 )\n",
        "    isim = input(\"İsminizi giriniz: \")\n",
        "    print(\"Merhaba \" + isim + \" Hadi Başlayalım ! \")\n",
        "\n",
        "\n",
        "    kelime = choice ( [\"ankara\",\"istanbul\",\"Ronaldo\",\"Messi\",\"Talisca\",\"Kartal\"] )\n",
        "\n",
        "    kelime = kelime.upper()\n",
        "    harfsayisi = len(kelime)\n",
        "\n",
        "    print(\"\\nKelimemiz {} harflidir.\\n\\n\".format(harfsayisi))\n",
        "\n",
        "    tahminler = []\n",
        "    hata = []\n",
        "\n",
        "    deneme = 7\n",
        "\n",
        "    while deneme > 0 :\n",
        "\n",
        "        tabela =\"\"\n",
        "\n",
        "        for harf in kelime :\n",
        "            if harf in tahminler:\n",
        "                tabela = tabela + harf\n",
        "\n",
        "            else:\n",
        "                tabela = tabela + \" _ \"\n",
        "\n",
        "        if tabela ==kelime:\n",
        "            print(\"Kelimeyi DOGRU BILDINIZ.TEBRIKLER\")\n",
        "            break\n",
        "\n",
        "        print(\"Kelimeyi Tahmin Ediniz\",tabela)\n",
        "\n",
        "        print(deneme,\"CANIN KALDI\")\n",
        "\n",
        "        Tahmin = input(\"Bir Harf Soyleyin\\n>>>>\")\n",
        "        Tahmin = Tahmin.upper() \n",
        "\n",
        "        if Tahmin == kelime:\n",
        "            print(\"\\n\\nBRAVO DOGRU BILDINIZ\\n\\n\")\n",
        "            break\n",
        "\n",
        "\n",
        "        if Tahmin in tahminler or Tahmin in hata:\n",
        "            print(\"{} daha once soylendi.Lutfen Baska Bir Harf Soyle \".format(Tahmin))\n",
        "\n",
        "        elif Tahmin in kelime:\n",
        "            rpt = kelime.count(Tahmin)\n",
        "            print(\"Dogru.{0} harfi kelimemiz icerisinde {1} kere geciyor\".format(Tahmin,rpt))\n",
        "            tahminler.append(Tahmin)\n",
        "\n",
        "        else:\n",
        "            print(\"Yanlis.Kelimede bu harf yok\")\n",
        "            hata.append(Tahmin)\n",
        "            deneme = deneme - 1 \n",
        "\n",
        "    if deneme ==0:\n",
        "         print(\"\\n\\nHic Hakkiniz Kalmadi. Maalesef Bilemediniz \")\n",
        "         print(\"Kelimemiz {}\\n\\n\".format(kelime))   \n",
        "\n",
        "    print(\"Oyundan Cikmak Istiyorsaniz\\n'H' tusuna basiniz\\nDevam Etmek Icin Baska Bir Tusa Basiniz \")\n",
        "    devam = input(\">>>>\")\n",
        "    devam =devam.upper()\n",
        "\n",
        "    if devam ==\"H\":\n",
        "        break\n",
        "\n",
        "    else:\n",
        "        continue"
      ]
    }
  ]
}