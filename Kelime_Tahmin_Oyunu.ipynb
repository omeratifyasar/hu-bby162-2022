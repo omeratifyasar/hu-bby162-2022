{
  "nbformat": 4,
  "nbformat_minor": 0,
  "metadata": {
    "colab": {
      "name": "Kelime Tahmin Oyunu.ipynb",
      "provenance": [],
      "authorship_tag": "ABX9TyPgJdsDRYroThAPnH8wa2tN",
      "include_colab_link": true
    },
    "kernelspec": {
      "name": "python3",
      "display_name": "Python 3"
    },
    "language_info": {
      "name": "python"
    }
  },
  "cells": [
    {
      "cell_type": "markdown",
      "metadata": {
        "id": "view-in-github",
        "colab_type": "text"
      },
      "source": [
        "<a href=\"https://colab.research.google.com/github/omeratifyasar/hu-bby162-2022/blob/main/Kelime_Tahmin_Oyunu.ipynb\" target=\"_parent\"><img src=\"https://colab.research.google.com/assets/colab-badge.svg\" alt=\"Open In Colab\"/></a>"
      ]
    },
    {
      "cell_type": "code",
      "execution_count": null,
      "metadata": {
        "colab": {
          "base_uri": "https://localhost:8080/"
        },
        "id": "1wd7fnki_sYX",
        "outputId": "73892e37-a9ef-41c7-cc03-2c5b5c45f286"
      },
      "outputs": [
        {
          "output_type": "stream",
          "name": "stdout",
          "text": [
            "Güncel kavramlardan tahminde bulun!\n",
            "Tahmininizi giriniz: fgdgdfgdfg\n",
            "Yanlış tahmin lütfen tekrar deneyiniz\n",
            "Tahmininizi giriniz: sddfsdffsdf\n",
            "Yanlış tahmin lütfen tekrar deneyiniz\n",
            "Tahmininizi giriniz: ddsfdfdfg\n",
            "Yanlış tahmin lütfen tekrar deneyiniz\n",
            "Tahmininizi giriniz: ağaç\n",
            "Yanlış tahmin lütfen tekrar deneyiniz\n",
            "Tahmininizi giriniz: kuş\n",
            "Yanlış tahmin lütfen tekrar deneyiniz\n",
            "Tahmininizi giriniz: dal\n",
            "Yanlış tahmin lütfen tekrar deneyiniz\n",
            "Tahmininizi giriniz: uçak\n",
            "Yanlış tahmin lütfen tekrar deneyiniz\n",
            "Tahmininizi giriniz: çita\n",
            "Kazandınız\n"
          ]
        }
      ],
      "source": [
        "#kelime tahmin oyunu\n",
        "print(\"Güncel kavramlardan tahminde bulun!\")\n",
        "Liste = [\"aslan\" , \"kaplan\" , \"leopar\" , \"jaguar\" , \"çita\" , \"kurt\"]\n",
        "while True:\n",
        "  tahmin = input(\"Tahmininizi giriniz: \")\n",
        "  if tahmin in Liste:\n",
        "    print(\"Kazandınız\")\n",
        "    break\n",
        "  else:\n",
        "    print(\"Yanlış tahmin lütfen tekrar deneyiniz\")\n"
      ]
    },
    {
      "cell_type": "code",
      "source": [
        ""
      ],
      "metadata": {
        "id": "F5lwYmXNnNKs"
      },
      "execution_count": null,
      "outputs": []
    }
  ]
}